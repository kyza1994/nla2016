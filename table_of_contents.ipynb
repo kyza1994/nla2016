{
 "cells": [
  {
   "cell_type": "markdown",
   "metadata": {},
   "source": [
    "# Table of contents"
   ]
  },
  {
   "cell_type": "markdown",
   "metadata": {},
   "source": [
    "**Course instructor: **\n",
    "Ivan Oseledets\n",
    "\n",
    "** TAs:**\n",
    "Maxim Rakhuba,\n",
    "Marina Munkhoeva,\n",
    "Alexandr Katrutsa,\n",
    "Artem Nikitin,\n",
    "Valentin Khrulkov"
   ]
  },
  {
   "cell_type": "markdown",
   "metadata": {},
   "source": [
    "| Week | Classes | Homework | Tests |\n",
    "|------|----------|----------|-------|\n",
    "|1| [General info](lectures/lecture-0.ipynb), <br> [Python Crash Course](lectures/Python_crash_course.ipynb), <br> [Lecture 1 (Floating point, vector norms)](lectures/lecture-1.ipynb), <br> [Lecture 2 (Memory hierarchy, matrix multiplication, Strassen algorithm)](lectures/lecture-2.ipynb), <br> [Lecture 3 (Matrix norms, Unitary matrices, QR via Housholder and Givens)](lectures/lecture-3.ipynb) | [Requirements](psets/rules_hw.pdf), <br> [Problem set 1](psets/pset1.ipynb) | \n",
    "|2|  [Lecture 4 (Matrix rank, skeleton decomposition, SVD)](lectures/lecture-4.ipynb) <br> [Lecture 5 (LU decomposition, least squares problem)](lectures/lecture-5.ipynb) |\n",
    "|3| [Lecture 6 (Eigendecomposition, Power method, Schur decomposition)](lectures/lecture-6.ipynb) <br> [Lecture 7 (More about the QR decomp, QR algorithm)](lectures/lecture-7.ipynb) <br> [Lecture 8 (More about QR algorithm, eigendecomposition algorithms, SVD algorithms)](lectures/lecture-8.ipynb) | [Problem set 2](psets/pset2.ipynb) |\n",
    "|4| [Lecture 9 (Sparse linear algebra part 1)](lectures/lecture-9.ipynb) <br> [Lecture 10 (Sparse linear algebra part 2, Iterative methods part 1)](lectures/lecture-10.ipynb) <br> [Lecture 11 (Iterative methods part 2 (CG, GMRES))](lectures/lecture-11.ipynb) |\n",
    "|5| [Lecture 12 (More Krylov methods + preconditioning)](lectures/lecture-12.ipynb) <br> [Lecture 13 (Iterative methods for eigenvalues)](lectures/lecture-13.ipynb) <br> Midterm test | [Problem set 3](psets/pset3.ipynb) |[Midterm test rules](midterm.pdf) |\n",
    "|6| [Lecture 14 (Structured matrices: circulants, Toeplitz matrices, Fourier transform)](lectures/lecture-14.ipynb) <br> Lecture 15 <br> Lecture 16 |\n",
    "|7| Q&A before the exam <br> Oral exam: [Thursday list of students](https://d1b10bmlvqabco.cloudfront.net/attach/iuiaquv3t0y6vy/i0i5wwfaund4jr/iw3je3a4sxcn/Exam_list_Thursday.pdf) <br> Oral exam: [Friday list of students](https://d1b10bmlvqabco.cloudfront.net/attach/iuiaquv3t0y6vy/i0i5wwfaund4jr/iw4xxllv549h/Exam_list_Friday.pdf) || [List of exam questions](exam/exam_questions.pdf),<br>[Basics](exam/program_min.pdf)\n",
    "|8| Friday: application period presentations|\n",
    "|9| Reexamination"
   ]
  },
  {
   "cell_type": "code",
   "execution_count": 4,
   "metadata": {
    "collapsed": false
   },
   "outputs": [
    {
     "data": {
      "text/html": [
       "<link href='http://fonts.googleapis.com/css?family=Fenix' rel='stylesheet' type='text/css'>\n",
       "<link href='http://fonts.googleapis.com/css?family=Alegreya+Sans:100,300,400,500,700,800,900,100italic,300italic,400italic,500italic,700italic,800italic,900italic' rel='stylesheet' type='text/css'>\n",
       "<link href='http://fonts.googleapis.com/css?family=Source+Code+Pro:300,400' rel='stylesheet' type='text/css'>\n",
       "<style>\n",
       "    @font-face {\n",
       "        font-family: \"Computer Modern\";\n",
       "        src: url('http://mirrors.ctan.org/fonts/cm-unicode/fonts/otf/cmunss.otf');\n",
       "    }\n",
       "    div.cell{\n",
       "        /*width:80%;*/\n",
       "        /*margin-left:auto !important;\n",
       "        margin-right:auto;*/\n",
       "    }\n",
       "    h1 {\n",
       "        font-family: 'Alegreya Sans', sans-serif;\n",
       "    }\n",
       "    h2 {\n",
       "        font-family: 'Fenix', serif;\n",
       "    }\n",
       "    h3{\n",
       "\t\tfont-family: 'Fenix', serif;\n",
       "        margin-top:12px;\n",
       "        margin-bottom: 3px;\n",
       "       }\n",
       "\th4{\n",
       "\t\tfont-family: 'Fenix', serif;\n",
       "       }\n",
       "    h5 {\n",
       "        font-family: 'Alegreya Sans', sans-serif;\n",
       "    }\t   \n",
       "    div.text_cell_render{\n",
       "        font-family: 'Alegreya Sans',Computer Modern, \"Helvetica Neue\", Arial, Helvetica, Geneva, sans-serif;\n",
       "        line-height: 1.2;\n",
       "        font-size: 120%;\n",
       "        /*width:70%;*/\n",
       "        /*margin-left:auto;*/\n",
       "        margin-right:auto;\n",
       "    }\n",
       "    .CodeMirror{\n",
       "            font-family: \"Source Code Pro\";\n",
       "\t\t\tfont-size: 90%;\n",
       "    }\n",
       "/*    .prompt{\n",
       "        display: None;\n",
       "    }*/\n",
       "    .text_cell_render h1 {\n",
       "        font-weight: 200;\n",
       "        font-size: 50pt;\n",
       "\t\tline-height: 110%;\n",
       "        color:#CD2305;\n",
       "        margin-bottom: 0.5em;\n",
       "        margin-top: 0.5em;\n",
       "        display: block;\n",
       "    }\t\n",
       "    .text_cell_render h5 {\n",
       "        font-weight: 300;\n",
       "        font-size: 16pt;\n",
       "        color: #CD2305;\n",
       "        font-style: italic;\n",
       "        margin-bottom: .5em;\n",
       "        margin-top: 0.5em;\n",
       "        display: block;\n",
       "    }\n",
       "    \n",
       "    li {\n",
       "        line-height: 110%;\n",
       "    }\n",
       "    .warning{\n",
       "        color: rgb( 240, 20, 20 )\n",
       "        }  \n",
       "\n",
       "</style>\n",
       "\n",
       "<script>\n",
       "    MathJax.Hub.Config({\n",
       "                        TeX: {\n",
       "                           extensions: [\"AMSmath.js\"]\n",
       "                           },\n",
       "                tex2jax: {\n",
       "                    inlineMath: [ ['$','$'], [\"\\\\(\",\"\\\\)\"] ],\n",
       "                    displayMath: [ ['$$','$$'], [\"\\\\[\",\"\\\\]\"] ]\n",
       "                },\n",
       "                displayAlign: 'center', // Change this to 'center' to center equations.\n",
       "                \"HTML-CSS\": {\n",
       "                    styles: {'.MathJax_Display': {\"margin\": 4}}\n",
       "                }\n",
       "        });\n",
       "</script>\n"
      ],
      "text/plain": [
       "<IPython.core.display.HTML object>"
      ]
     },
     "execution_count": 4,
     "metadata": {},
     "output_type": "execute_result"
    }
   ],
   "source": [
    "from IPython.core.display import HTML\n",
    "def css_styling():\n",
    "    styles = open(\"lectures/styles/custom.css\", \"r\").read()\n",
    "    return HTML(styles)\n",
    "css_styling()"
   ]
  }
 ],
 "metadata": {
  "anaconda-cloud": {},
  "kernelspec": {
   "display_name": "Python 2",
   "language": "python",
   "name": "python2"
  },
  "language_info": {
   "codemirror_mode": {
    "name": "ipython",
    "version": 2
   },
   "file_extension": ".py",
   "mimetype": "text/x-python",
   "name": "python",
   "nbconvert_exporter": "python",
   "pygments_lexer": "ipython2",
   "version": "2.7.12"
  },
  "nav_menu": {},
  "toc": {
   "navigate_menu": true,
   "number_sections": true,
   "sideBar": true,
   "threshold": 6,
   "toc_cell": false,
   "toc_section_display": "block",
   "toc_window_display": false
  }
 },
 "nbformat": 4,
 "nbformat_minor": 0
}
