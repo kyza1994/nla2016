{
 "cells": [
  {
   "cell_type": "markdown",
   "metadata": {
    "slideshow": {
     "slide_type": "slide"
    }
   },
   "source": [
    "# Lecture 10:  Sparse matrices finale & Iterative methods"
   ]
  },
  {
   "cell_type": "markdown",
   "metadata": {
    "slideshow": {
     "slide_type": "slide"
    }
   },
   "source": [
    "## Recap of the previous lecture\n",
    "- Sparse matrix formats (COO, LIL, CSR)\n",
    "- Matrix-by-vector product\n",
    "- Gaussian elimination for sparse matrices and graphs"
   ]
  },
  {
   "cell_type": "markdown",
   "metadata": {
    "slideshow": {
     "slide_type": "slide"
    }
   },
   "source": [
    "## Today lecture\n",
    "\n",
    "- Gaussian elimination and graphs in more details\n",
    "- Concept of **iterative methods** for linear systems\n",
    "- Richardson iteration and its convergence, Chebyshev acceleration"
   ]
  },
  {
   "cell_type": "markdown",
   "metadata": {
    "slideshow": {
     "slide_type": "slide"
    }
   },
   "source": [
    "## Gaussian elimination and graphs\n",
    "\n",
    "<img src=\"gauss_elimination.png\" /img>"
   ]
  },
  {
   "cell_type": "markdown",
   "metadata": {
    "slideshow": {
     "slide_type": "slide"
    }
   },
   "source": [
    "## Gaussian elimination and graphs\n",
    "In the symmetric case, $A = A^{\\top} > 0$ the sparsity pattern of the matrix $L$ is determined by operations on the graph of the matrix $A$.\n",
    "\n",
    "The order of elimination is important, since we are adding new edges between neighbors."
   ]
  },
  {
   "cell_type": "markdown",
   "metadata": {
    "slideshow": {
     "slide_type": "slide"
    }
   },
   "source": [
    "## Illustration\n",
    "The factorization is then a graph operation (on the right there is a sparsity of $L$ for different orderings)\n",
    "<img src=\"gauss_elimination2.png\" /img>"
   ]
  },
  {
   "cell_type": "markdown",
   "metadata": {
    "slideshow": {
     "slide_type": "slide"
    }
   },
   "source": [
    "## Implemenation scheme\n",
    "\n",
    "1. Preorder: replace A by $PAP^{\\top}$ and $b$ by $Pb$ \n",
    "   Independent of numerics\n",
    "2. Symbolic Factorization: build static data structure\n",
    " - Elimination tree\n",
    " - Nonzero counts\n",
    " - Supernodes (separate topic, we do not talk about it)\n",
    " - Nonzero structure of $L$\n",
    "3. Numeric Factorization: $A = LL^{\\top}$\n",
    " - Static data structure\n",
    " - Supernodes use BLAS3 to reduce memory traffic (separate topic)\n",
    "4. Triangular Solves: solve $Ly = b$, then $L^{\\top} x = y$ "
   ]
  },
  {
   "cell_type": "markdown",
   "metadata": {
    "slideshow": {
     "slide_type": "slide"
    }
   },
   "source": [
    "## Permutation selection\n",
    "\n",
    "The selection of the permutation is done by looking at the graph."
   ]
  },
  {
   "cell_type": "markdown",
   "metadata": {},
   "source": [
    "## Nested dissection ordering\n",
    "\n",
    " A separator in a graph $G$ is a set $S$ of vertices whose removal leaves at\n",
    "least two connected components\n",
    "- A nested dissection ordering for an $N$-vertex graph $G$ numbers its\n",
    "vertices from $1$ to $N$ as follows:\n",
    "- Find a separator $S$, whose removal leaves connected components\n",
    "$T_1$, $T_2$, $\\ldots$, $T_k$\n",
    "- Number the vertices of $S$ from $N − |S| + 1$ to $N$\n",
    "- Recursively, number the vertices of each component: $T_1$ from $1$ to\n",
    "$|T_1|$, $T_2$ from $|T_1| + 1$ to $|T_1| + |T_2|$, etc\n",
    "- If a component is small enough, number it arbitrarily\n",
    "\n",
    "It all boils down to finding good separators! "
   ]
  },
  {
   "cell_type": "markdown",
   "metadata": {},
   "source": [
    "## Nested dissection is \"approximately optimal\"\n",
    "\n",
    "From theory, nested dissection gives you optimal complexity. \n",
    "\n",
    "Again, there are other methods that win for medium-sized problems.\n",
    "\n",
    "They are based on **heuristic** matrix reordering techniques."
   ]
  },
  {
   "cell_type": "markdown",
   "metadata": {},
   "source": [
    "## Banded reordering\n",
    "\n",
    "Make the matrix more \"banded\" (Reverse Cuhill-McKee, Sloan, etc.). \n",
    "\n",
    "The idea is to try to keep entries closer to the diagonal. \n",
    "\n",
    "Works well for matrices coming from \"quasi-one dimensional\" PDEs."
   ]
  },
  {
   "cell_type": "markdown",
   "metadata": {},
   "source": [
    "## Minimal degree orderings\n",
    "\n",
    "The idea is to eliminate rows and/or columns with fewer non-zeros, update fill-in and then repeat\n",
    "\n",
    "Efficient implementation is an issue (adding/removing elements).\n",
    "\n",
    "Current champion is \"approximate minimal degree\" by Amestoy, Davis, Duff.\n",
    "\n",
    "It is **suboptimal** even for 2D problems\n",
    "\n",
    "In practice, often wins for medium-sized problems."
   ]
  },
  {
   "cell_type": "markdown",
   "metadata": {
    "slideshow": {
     "slide_type": "slide"
    }
   },
   "source": [
    "## Nested dissection\n",
    "\n",
    "- Find a separator, number it last, proceed recursively.\n",
    "- In theory, optimal.\n",
    "- In practice, beats others for very large problems."
   ]
  },
  {
   "cell_type": "markdown",
   "metadata": {
    "slideshow": {
     "slide_type": "slide"
    }
   },
   "source": [
    "## Separators in practice\n",
    "\n",
    "Computing separators is not a **trivial task**.\n",
    "\n",
    "Graph partitioning heuristics have been an active research area for many years, often motivated by partitioning for parallel computation.\n",
    "\n",
    "Existing approaches:\n",
    "\n",
    "- Spectral partitioning (uses eigenvectors of Laplacian matrix of graph)\n",
    "- Geometric partitioning (for meshes with specified vertex coordinates)\n",
    "- Iterative-swapping (Kernighan-Lin, Fiduccia-Matheysses)\n",
    "- Breadth-first search \n",
    "\n",
    "Many popular modern codes (e.g. Metis, Chaco) use multilevel iterative swapping."
   ]
  },
  {
   "cell_type": "markdown",
   "metadata": {
    "slideshow": {
     "slide_type": "slide"
    }
   },
   "source": [
    "## Iterative swapping\n",
    "\n",
    "The \"cost\" of the separator is defined in a very natural way as the sum over edges:\n",
    "\n",
    "$$T(A, B) = \\sum_{e} \\{ \\mbox{weight}(e): \\mbox{ $e$ connects $A$ and $B$} \\}.$$\n",
    "\n",
    "Given some initial partion, test some subsets $X$ and $Y$ of the same size, and if swapping decreases the cost function - swap them."
   ]
  },
  {
   "cell_type": "markdown",
   "metadata": {
    "slideshow": {
     "slide_type": "slide"
    }
   },
   "source": [
    "## Spectral bisection\n",
    "\n",
    "The idea of spectral bisection goes back to Fiedler.\n",
    "\n",
    "We need to split the vertices into two.\n",
    "\n",
    "Consider +1/-1 labeling of vertices and the cost\n",
    "\n",
    "$$E_c = \\sum_{j} \\sum_{i \\in N(j)} (x_i - x_j)^2.$$\n",
    "\n",
    "We need a balanced particion, thus \n",
    "$$\\sum_i x_i =  0$$\n",
    "and since we have +1/-1 labels, we have\n",
    "$$\\sum_i x^2_i = n.$$\n",
    "\n",
    "We now relax the integer programming to the quadratic programming\n",
    "\n",
    "$$E_c = (Lx, x),$$\n",
    "where $L$ is the **graph Laplacian**."
   ]
  },
  {
   "cell_type": "markdown",
   "metadata": {
    "slideshow": {
     "slide_type": "slide"
    }
   },
   "source": [
    "## Graph Laplacian\n",
    "We introduce the **graph Laplacian** of the matrix, which is defined as as a symmetric matrix\n",
    "\n",
    "as\n",
    "\n",
    "$$L_{ii} = \\mbox{degree of node $i$},$$\n",
    "\n",
    "$$L_{ij} = -1, \\mbox{if $i \\ne j$  and there is an edge},$$\n",
    "\n",
    "and $0$ otherwise.\n",
    "\n",
    "- Rows of $L$ sum to zero, thus there is an eigenvalue $0$ (why?)\n",
    "- Eigenvalues are non-negative.\n",
    "- The number of connected components of a graph is the number of **zero eigenvalues**"
   ]
  },
  {
   "cell_type": "markdown",
   "metadata": {
    "slideshow": {
     "slide_type": "slide"
    }
   },
   "source": [
    "## Fiedler vector\n",
    "The solution is given by the eigenvector corresponding  to the second smallest eigenvalue of the graph Laplacian. The sign $x_i$ corresponds to partitioning.\n",
    "\n",
    "In computations, we need to find out, how to find this second minimal eigenvalue -- we at least know about power method, but it finds the largest.\n",
    "\n",
    "This is the main goal of the iterative methods for large-scale linear problems, and\n",
    "\n",
    "can be achieved via few matrix-by-vector products."
   ]
  },
  {
   "cell_type": "markdown",
   "metadata": {
    "slideshow": {
     "slide_type": "slide"
    }
   },
   "source": [
    "## Interative methods\n",
    "\n",
    "If we want to get $\\mathcal{O}(N)$ complexity, we need to do something else.\n",
    "\n",
    "If we want to solve partial eigenproblem, we need to do something else.\n",
    "\n",
    "This \"else\" are iterative, Krylov subspace solvers, which treat the matrix as a **black-box** linear operator."
   ]
  },
  {
   "cell_type": "markdown",
   "metadata": {
    "slideshow": {
     "slide_type": "slide"
    }
   },
   "source": [
    "## Matrix as a black box\n",
    "\n",
    "We have now an absolutely different view on a matrix: matrix is now a **linear operator**, that acts on a vector,  \n",
    "\n",
    "and this action can be computed in $\\mathcal{O}(N)$ operations.\n",
    "\n",
    "**This is the only information** we know about the matrix: the <font color='red'> matrix-by-vector product </font>\n",
    "\n",
    "Can we solve linear systems?\n",
    "\n",
    "Of course, we can multiply by the colums of the identity matrix, and recover the full matrix, but it is not what we need."
   ]
  },
  {
   "cell_type": "markdown",
   "metadata": {
    "slideshow": {
     "slide_type": "slide"
    }
   },
   "source": [
    "## Richardson iteration\n",
    "The simplest idea is the **\"simple iteration method\"** or **Richardson iteration**.  \n",
    "\n",
    "\n",
    "  $$Ax = f,$$\n",
    "  $$\\tau  (Ax - f) = 0,$$\n",
    "   $$x - \\tau (Ax - f) = x,$$\n",
    "   $$x_{k+1} = x_k - \\tau (Ax_k - f),$$\n",
    "   \n",
    "   where $\\tau$ is the **iteration parameter**, which can be always chosen such that the method **converges**."
   ]
  },
  {
   "cell_type": "markdown",
   "metadata": {
    "slideshow": {
     "slide_type": "slide"
    }
   },
   "source": [
    "## Convergence of the Richardson method\n",
    "Let $x_*$ be the solution; introduce an error $e_k = x_{k} - x_*$, then  \n",
    "\n",
    "$$\n",
    "     e_{k+1} = (I - \\tau A) e_k,\n",
    "$$\n",
    "\n",
    "therefore if $\\Vert I - \\tau A \\Vert < 1$ the iteration converges. \n",
    "\n",
    "For symmetric positive definite case it is always possible to select $\\tau.$\n",
    "\n",
    "What about the non-symmetric case?"
   ]
  },
  {
   "cell_type": "markdown",
   "metadata": {
    "slideshow": {
     "slide_type": "slide"
    }
   },
   "source": [
    "## Optimal parameter choice\n",
    "The optimal choice for $\\tau$ for $A = A^* > 0$ is (prove it!)\n",
    "$$\n",
    "  \\tau = \\frac{2}{\\lambda_{\\min} + \\lambda_{\\max}}.\n",
    "$$\n",
    "\n",
    "where $\\lambda_{\\min}$ is the minimal eigenvalue, and $\\lambda_{\\max}$ is the maximal eigenvalue of the matrix $A$.\n",
    "\n",
    "So, to find optimal parameter, we need to know the **bounds of the spectra** of the matrix $A$,\n",
    "\n",
    "and we can compute it by using **power method**.`"
   ]
  },
  {
   "cell_type": "markdown",
   "metadata": {
    "slideshow": {
     "slide_type": "slide"
    }
   },
   "source": [
    "## Connection to ODEs\n",
    "\n",
    "The Richardson iteration has a deep connection to the Ordinary Differential Equations (ODE).\n",
    "\n",
    "\n",
    "Consider a time-dependent problem\n",
    "\n",
    "$$\\frac{dy}{dt} + A y = f, \\quad y(0) = y_0.$$\n",
    "\n",
    "Then $y(t) \\rightarrow A^{-1} f$ as $t \\rightarrow \\infty$, and the **Euler scheme** reads\n",
    "\n",
    "$$\\frac{(y_{k+1} - y_k)}{\\tau} = -A y_k + f.$$"
   ]
  },
  {
   "cell_type": "markdown",
   "metadata": {
    "slideshow": {
     "slide_type": "slide"
    }
   },
   "source": [
    "## Convergence speed and condition number\n",
    "\n",
    "Even with the optimal parameter choice, the error at the next step satisfies\n",
    "\n",
    "$$e_{k+1} \\leq e_k q, \\rightarrow e_k \\leq c q^k,$$\n",
    "\n",
    "where \n",
    "\n",
    "$$\n",
    "   q = \\frac{\\lambda_{\\max} - \\lambda_{\\min}}{\\lambda_{\\max} + \\lambda_{\\min}} = \\frac{c - 1}{c+1},\n",
    "$$\n",
    "\n",
    "$$c = \\frac{\\lambda_{\\max}}{\\lambda_{\\min}} = \\mathrm{cond}(A)$$\n",
    "\n",
    "is the condition number of $A$.\n",
    "\n",
    "Let us do some demo..."
   ]
  },
  {
   "cell_type": "code",
   "execution_count": 2,
   "metadata": {
    "collapsed": false,
    "slideshow": {
     "slide_type": "slide"
    }
   },
   "outputs": [
    {
     "data": {
      "text/plain": [
       "((-0.0058683976325190276+0j), (-3.994131602367494+0j))"
      ]
     },
     "execution_count": 2,
     "metadata": {},
     "output_type": "execute_result"
    },
    {
     "data": {
      "image/png": "[encoded data removed]",
      "text/plain": [
       "<matplotlib.figure.Figure at 0x10de61750>"
      ]
     },
     "metadata": {},
     "output_type": "display_data"
    }
   ],
   "source": [
    "import numpy as np\n",
    "import matplotlib.pyplot as plt\n",
    "%matplotlib inline\n",
    "import scipy as sp\n",
    "import scipy.sparse\n",
    "import scipy.sparse.linalg as spla\n",
    "import scipy\n",
    "from scipy.sparse import csc_matrix\n",
    "n = 40\n",
    "ex = np.ones(n);\n",
    "lp1 = sp.sparse.spdiags(np.vstack((ex,  -2*ex, ex)), [-1, 0, 1], n, n, 'csr'); \n",
    "rhs = np.ones(n)\n",
    "ev1, vec = spla.eigs(lp1, k=2, which='LR')\n",
    "ev2, vec = spla.eigs(lp1, k=2, which='SR')\n",
    "lam_max = ev1[0]\n",
    "lam_min = ev2[0]\n",
    "\n",
    "tau_opt = 2.0/(lam_max + lam_min)\n",
    "\n",
    "fig, ax = plt.subplots()\n",
    "plt.close(fig)\n",
    "\n",
    "niters = 100\n",
    "x = np.zeros(n)\n",
    "res_all = []\n",
    "for i in xrange(niters):\n",
    "    rr = lp1.dot(x) - rhs\n",
    "    x = x - tau_opt * rr\n",
    "    res_all.append(np.linalg.norm(rr))\n",
    "#Convergence of an ordinary Richardson (with optimal parameter)\n",
    "plt.plot(res_all)\n",
    "lam_max, lam_min"
   ]
  },
  {
   "cell_type": "markdown",
   "metadata": {
    "slideshow": {
     "slide_type": "slide"
    }
   },
   "source": [
    "## Condition number of and convergence speed\n",
    "Thus, for **ill-conditioned** matrices the error of the simple iteration method decays very slowly.\n",
    "\n",
    "This is another reason why **condition number** is so important:\n",
    "\n",
    "1. It gives the bound on the error in the solution\n",
    "\n",
    "2. It gives an estimate of the number of iterations for the iterative methods.\n",
    "\n",
    "Main questions for the iterative method is how to make the matrix **better conditioned** \n",
    "\n",
    "The answer is <font color='red'> use preconditioners </font>"
   ]
  },
  {
   "cell_type": "markdown",
   "metadata": {
    "slideshow": {
     "slide_type": "slide"
    }
   },
   "source": [
    "## Better iterative methods\n",
    "\n",
    "But before preconditioners, we need to use **better iterative methods**. \n",
    "\n",
    "There is a whole **zoo** of iterative methods, but we need to know just few of them."
   ]
  },
  {
   "cell_type": "markdown",
   "metadata": {
    "slideshow": {
     "slide_type": "slide"
    }
   },
   "source": [
    "## Attempt 1: Different time steps\n",
    "\n",
    "Suppose we **change** $\\tau$ every step, i.e. \n",
    "$$\n",
    "   x_{k+1} = x_k - \\tau_k (A x_k - f).\n",
    "$$\n",
    "\n",
    "Then, $$e_{k+1} = (I - \\tau_k A) e_k = (I - \\tau_k A) (I - \\tau_{k-1} A)  e_{k-1} = \\ldots = p(A) e_0, $$\n",
    "\n",
    "where $p(A)$ is a **matrix polynomial** (simplest matrix function)  \n",
    "\n",
    "$$\n",
    "   p(A) = (I - \\tau_k A) \\ldots (I - \\tau_0 A),\n",
    "$$\n",
    "\n",
    "and $p(0) = 1$."
   ]
  },
  {
   "cell_type": "markdown",
   "metadata": {
    "slideshow": {
     "slide_type": "slide"
    }
   },
   "source": [
    "## Optimal choice of the time steps\n",
    "The error is written as \n",
    "\n",
    "$$e_{k+1} = p(A) e_0, $$\n",
    "and hence\n",
    "$$\\|e_{k+1}\\| \\leq \\|p(A)\\| \\|e_0\\|, $$\n",
    "where $p(0) = 1$ and $p(A)$ is a **matrix polynomial**. \n",
    "\n",
    "To get better **error reduction**, we need to minimize\n",
    "\n",
    "$$\\Vert p(A) \\Vert$$ over all possible polynomials."
   ]
  },
  {
   "cell_type": "markdown",
   "metadata": {
    "slideshow": {
     "slide_type": "slide"
    }
   },
   "source": [
    "##  Polynomials least deviating from zeros\n",
    "\n",
    "Important special case: $A = A^* > 0$.\n",
    "\n",
    "Then $A = U \\Lambda U^*$, \n",
    "\n",
    "and \n",
    "\n",
    "\n",
    "\n",
    "$$\\Vert p(A) \\Vert_2 = \\Vert U p(\\Lambda) U^* \\Vert_2 = \\Vert p(\\Lambda) \\Vert_2 = \\max_k |p(\\lambda_k)| \\leq \n",
    "\\max_{a \\leq \\lambda \\leq b} p(\\lambda).$$\n",
    "\n",
    "Thus, we need to find a polynomial such that $p(0) = 1$, that has the least possible deviation from $0$ on a given interval $[a, b]$."
   ]
  },
  {
   "cell_type": "markdown",
   "metadata": {
    "slideshow": {
     "slide_type": "slide"
    }
   },
   "source": [
    "##  Polynomials least deviating from zeros (2)\n",
    "\n",
    "We can do the affine transformation of the interval $[a, b]$ to the interval $[-1, 1]$.\n",
    "\n",
    "The problem is then reduced to the problem of finding the **polynomial least deviating from zero** on an interval $[-1, 1]$ \n",
    "\n",
    "with some normalization constraint $p(c) = 1$.\n"
   ]
  },
  {
   "cell_type": "markdown",
   "metadata": {
    "slideshow": {
     "slide_type": "slide"
    }
   },
   "source": [
    "## Exact solution: Chebyshev polynomials\n",
    "\n",
    "The exact solution to this problem is given by the famous **Chebyshev polynomials** of the form\n",
    "\n",
    "$$T_n(x) =  \\cos (n \\arccos x)$$"
   ]
  },
  {
   "cell_type": "markdown",
   "metadata": {
    "slideshow": {
     "slide_type": "slide"
    }
   },
   "source": [
    "## What do you need to know about Chebyshev polynomials\n",
    "\n",
    "1. This is a polynomial! (we can express $T_n$ from $T_{n-1}$ and $T_{n-2}$).\n",
    "\n",
    "2. $|T_n(x)| \\leq 1$ on $x \\in [-1, 1]$.\n",
    "\n",
    "3. It has $(n+1)$ **alternation points**, were the the maximal absolute value is achieved (this is the sufficient and necessary condition for the **optimality**\n",
    "\n",
    "4. The **roots** are just  \n",
    "$n \\arccos x_k = \\frac{\\pi}{2} + \\pi k, \\rightarrow x_k = \\cos \\frac{\\pi(k + 0.5)}{n}$\n",
    "\n",
    "We can plot them..."
   ]
  },
  {
   "cell_type": "code",
   "execution_count": 3,
   "metadata": {
    "collapsed": false,
    "slideshow": {
     "slide_type": "slide"
    }
   },
   "outputs": [
    {
     "data": {
      "text/plain": [
       "[<matplotlib.lines.Line2D at 0x10e6900d0>]"
      ]
     },
     "execution_count": 3,
     "metadata": {},
     "output_type": "execute_result"
    },
    {
     "data": {
      "image/png": "[encoded data removed]",
      "text/plain": [
       "<matplotlib.figure.Figure at 0x10deace50>"
      ]
     },
     "metadata": {},
     "output_type": "display_data"
    }
   ],
   "source": [
    "import numpy as np\n",
    "import matplotlib.pyplot as plt\n",
    "plt.xkcd()\n",
    "%matplotlib inline\n",
    "x = np.linspace(-1, 2, 128)\n",
    "p = np.polynomial.Chebyshev((0, 0, 0, 0, 0, 0, 0, 0, 0, 1), (-1, 1)) #These are Chebyshev series, a proto of \"chebfun system\" in MATLAB\n",
    "plt.plot(x, p(x))"
   ]
  },
  {
   "cell_type": "markdown",
   "metadata": {
    "slideshow": {
     "slide_type": "slide"
    }
   },
   "source": [
    "## Convergence of the Chebyshev-accelerated Richardson iteration\n",
    "\n",
    "Given the roots of the polynomials $x_k$, the best parameters are determined as \n",
    "\n",
    "$$\\tau_k = \\frac{1}{x_k}.$$\n",
    "\n",
    "The convergence (we only give the result without the proof) is now given by\n",
    "\n",
    "$$\n",
    "   e_{k+1} \\leq c q^k, \\quad q = \\frac{\\sqrt{c}-1}{\\sqrt{c}+1},\n",
    "$$\n",
    "\n",
    "where $c = \\mathrm{cond}(A)$.\n"
   ]
  },
  {
   "cell_type": "markdown",
   "metadata": {
    "slideshow": {
     "slide_type": "slide"
    }
   },
   "source": [
    "## Beyond Chebyshev\n",
    "\n",
    "We have made an important assumption about the spectra: it is contained within an interval over the real line (and we need to know the bounds)\n",
    "\n",
    "If the spectra is contained within **two intervals**, and we know the bounds, we can also put the optimization problem \n",
    "\n",
    "for the **optimal polynomial**.\n",
    "\n"
   ]
  },
  {
   "cell_type": "markdown",
   "metadata": {
    "slideshow": {
     "slide_type": "slide"
    }
   },
   "source": [
    "## Spectra of the matrix contain on multiple segments\n",
    "\n",
    "For the case of **two segments** the best polynomial is given by **Zolotarev polynomials** (expressed in terms of elliptic functions)\n",
    "\n",
    "For the case of **more than two segments** the best polynomial can be expressed in terms of **hyperelliptic functions**"
   ]
  },
  {
   "cell_type": "markdown",
   "metadata": {
    "slideshow": {
     "slide_type": "slide"
    }
   },
   "source": [
    "## How can we make it better\n",
    "\n",
    "The implementation of the Chebyshev acceleration requires the knowledge of the spectra.\n",
    "\n",
    "It only stores the **previous vector** $x_k$ and computes the new correction vector\n",
    "\n",
    "$$r_k = A x_k - f.$$\n",
    "\n",
    "It belongs to the class of **two-term** iterative methods.\n",
    "\n",
    "It appears that if we **abandon** this and **store more vectors**, then we can go without the spectra estimation (and better convergence in practice)!"
   ]
  },
  {
   "cell_type": "markdown",
   "metadata": {
    "slideshow": {
     "slide_type": "slide"
    }
   },
   "source": [
    "## Crucial point: Krylov subspace\n",
    "\n",
    "The Chebyshev method produces the approximation of the form\n",
    "\n",
    "$$x_{k+1} = p(A) f,$$\n",
    "\n",
    "i.e. it lies in the the **Krylov subspace** of the matrix  which is defined as\n",
    "\n",
    "$$\n",
    "   K(A, f) = \\mathrm{Span}(f, Af, A^2 f, \\ldots, )\n",
    "$$\n",
    "\n",
    "The most natural approach then is to find the vector in this **linear subspace** that minimizes \n",
    "\n",
    "certain **norm of the error**"
   ]
  },
  {
   "cell_type": "markdown",
   "metadata": {
    "slideshow": {
     "slide_type": "slide"
    }
   },
   "source": [
    "## Take home message\n",
    "\n",
    "- Finalized Gaussian elimination and connection to graphs\n",
    "- Introduced two iterative methods: simple iteration and Chebyshev acceleration"
   ]
  },
  {
   "cell_type": "markdown",
   "metadata": {
    "slideshow": {
     "slide_type": "slide"
    }
   },
   "source": [
    "## Next lecture\n",
    "\n",
    "- Main iterative methods: conjugate gradient, GMRES, ...\n",
    "- Lanczos and Arnoldi orthogonalization of Krylov subspaces, optimality result for Krylov subspaces\n",
    "- Convergence estimates\n",
    "- Iterative Methods for eigenvalue problems"
   ]
  },
  {
   "cell_type": "markdown",
   "metadata": {
    "slideshow": {
     "slide_type": "slide"
    }
   },
   "source": [
    "# Questions?"
   ]
  },
  {
   "cell_type": "code",
   "execution_count": 1,
   "metadata": {
    "collapsed": false,
    "slideshow": {
     "slide_type": "skip"
    }
   },
   "outputs": [
    {
     "data": {
      "text/html": [
       "<link href='http://fonts.googleapis.com/css?family=Fenix' rel='stylesheet' type='text/css'>\n",
       "<link href='http://fonts.googleapis.com/css?family=Alegreya+Sans:100,300,400,500,700,800,900,100italic,300italic,400italic,500italic,700italic,800italic,900italic' rel='stylesheet' type='text/css'>\n",
       "<link href='http://fonts.googleapis.com/css?family=Source+Code+Pro:300,400' rel='stylesheet' type='text/css'>\n",
       "<style>\n",
       "    @font-face {\n",
       "        font-family: \"Computer Modern\";\n",
       "        src: url('http://mirrors.ctan.org/fonts/cm-unicode/fonts/otf/cmunss.otf');\n",
       "    }\n",
       "    div.cell{\n",
       "        /*width:80%;*/\n",
       "        /*margin-left:auto !important;\n",
       "        margin-right:auto;*/\n",
       "    }\n",
       "    h1 {\n",
       "        font-family: 'Alegreya Sans', sans-serif;\n",
       "    }\n",
       "    h2 {\n",
       "        font-family: 'Fenix', serif;\n",
       "    }\n",
       "    h3{\n",
       "\t\tfont-family: 'Fenix', serif;\n",
       "        margin-top:12px;\n",
       "        margin-bottom: 3px;\n",
       "       }\n",
       "\th4{\n",
       "\t\tfont-family: 'Fenix', serif;\n",
       "       }\n",
       "    h5 {\n",
       "        font-family: 'Alegreya Sans', sans-serif;\n",
       "    }\t   \n",
       "    div.text_cell_render{\n",
       "        font-family: 'Alegreya Sans',Computer Modern, \"Helvetica Neue\", Arial, Helvetica, Geneva, sans-serif;\n",
       "        line-height: 1.2;\n",
       "        font-size: 120%;\n",
       "        /*width:70%;*/\n",
       "        /*margin-left:auto;*/\n",
       "        margin-right:auto;\n",
       "    }\n",
       "    .CodeMirror{\n",
       "            font-family: \"Source Code Pro\";\n",
       "\t\t\tfont-size: 90%;\n",
       "    }\n",
       "/*    .prompt{\n",
       "        display: None;\n",
       "    }*/\n",
       "    .text_cell_render h1 {\n",
       "        font-weight: 200;\n",
       "        font-size: 50pt;\n",
       "\t\tline-height: 110%;\n",
       "        color:#CD2305;\n",
       "        margin-bottom: 0.5em;\n",
       "        margin-top: 0.5em;\n",
       "        display: block;\n",
       "    }\t\n",
       "    .text_cell_render h5 {\n",
       "        font-weight: 300;\n",
       "        font-size: 16pt;\n",
       "        color: #CD2305;\n",
       "        font-style: italic;\n",
       "        margin-bottom: .5em;\n",
       "        margin-top: 0.5em;\n",
       "        display: block;\n",
       "    }\n",
       "    \n",
       "    li {\n",
       "        line-height: 110%;\n",
       "    }\n",
       "    .warning{\n",
       "        color: rgb( 240, 20, 20 )\n",
       "        }  \n",
       "\n",
       "</style>\n",
       "\n",
       "<script>\n",
       "    MathJax.Hub.Config({\n",
       "                        TeX: {\n",
       "                           extensions: [\"AMSmath.js\"]\n",
       "                           },\n",
       "                tex2jax: {\n",
       "                    inlineMath: [ ['$','$'], [\"\\\\(\",\"\\\\)\"] ],\n",
       "                    displayMath: [ ['$$','$$'], [\"\\\\[\",\"\\\\]\"] ]\n",
       "                },\n",
       "                displayAlign: 'center', // Change this to 'center' to center equations.\n",
       "                \"HTML-CSS\": {\n",
       "                    styles: {'.MathJax_Display': {\"margin\": 4}}\n",
       "                }\n",
       "        });\n",
       "</script>\n"
      ],
      "text/plain": [
       "<IPython.core.display.HTML object>"
      ]
     },
     "execution_count": 1,
     "metadata": {},
     "output_type": "execute_result"
    }
   ],
   "source": [
    "from IPython.core.display import HTML\n",
    "def css_styling():\n",
    "    styles = open(\"./styles/custom.css\", \"r\").read()\n",
    "    return HTML(styles)\n",
    "css_styling()"
   ]
  }
 ],
 "metadata": {
  "anaconda-cloud": {},
  "celltoolbar": "Slideshow",
  "kernelspec": {
   "display_name": "Python [default]",
   "language": "python",
   "name": "python2"
  },
  "language_info": {
   "codemirror_mode": {
    "name": "ipython",
    "version": 2
   },
   "file_extension": ".py",
   "mimetype": "text/x-python",
   "name": "python",
   "nbconvert_exporter": "python",
   "pygments_lexer": "ipython2",
   "version": "2.7.12"
  },
  "nav_menu": {},
  "toc": {
   "navigate_menu": true,
   "number_sections": false,
   "sideBar": true,
   "threshold": 6,
   "toc_cell": false,
   "toc_section_display": "block",
   "toc_window_display": false
  }
 },
 "nbformat": 4,
 "nbformat_minor": 0
}
